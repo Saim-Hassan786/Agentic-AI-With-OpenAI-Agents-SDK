{
  "nbformat": 4,
  "nbformat_minor": 0,
  "metadata": {
    "colab": {
      "provenance": [],
      "authorship_tag": "ABX9TyNaqQcf8nOiGU5YS/CC6MCt",
      "include_colab_link": true
    },
    "kernelspec": {
      "name": "python3",
      "display_name": "Python 3"
    },
    "language_info": {
      "name": "python"
    }
  },
  "cells": [
    {
      "cell_type": "markdown",
      "metadata": {
        "id": "view-in-github",
        "colab_type": "text"
      },
      "source": [
        "<a href=\"https://colab.research.google.com/github/Saim-Hassan786/Learn-Agentic-AI-With-OpenAI-Agents-SDK/blob/main/08-Guardrails/Guardrails.ipynb\" target=\"_parent\"><img src=\"https://colab.research.google.com/assets/colab-badge.svg\" alt=\"Open In Colab\"/></a>"
      ]
    },
    {
      "cell_type": "markdown",
      "source": [
        "# Guardrails\n",
        "Guardrails provided by the OpenAI Agents SDK can be regarded as the checks that can be deployed on both inputs and outputs to control the incoming inputs to our agentic app from the user and the outgoing outputs from the agentic app back to the user , in simple words we can determine what inputs can our agents take and what outputs it can give and we can halt our agentic execution if our guardrails detect the breach of our implemented checks."
      ],
      "metadata": {
        "id": "myFXzANayTB_"
      }
    },
    {
      "cell_type": "code",
      "execution_count": null,
      "metadata": {
        "colab": {
          "base_uri": "https://localhost:8080/"
        },
        "id": "dhrHYsAdzNny",
        "outputId": "ffd96881-daf6-4674-a65b-810b685811cf"
      },
      "outputs": [
        {
          "output_type": "stream",
          "name": "stdout",
          "text": [
            "\u001b[2K     \u001b[90m━━━━━━━━━━━━━━━━━━━━━━━━━━━━━━━━━━━━━━━━\u001b[0m \u001b[32m40.1/40.1 kB\u001b[0m \u001b[31m1.7 MB/s\u001b[0m eta \u001b[36m0:00:00\u001b[0m\n",
            "\u001b[2K   \u001b[90m━━━━━━━━━━━━━━━━━━━━━━━━━━━━━━━━━━━━━━━━\u001b[0m \u001b[32m130.6/130.6 kB\u001b[0m \u001b[31m5.0 MB/s\u001b[0m eta \u001b[36m0:00:00\u001b[0m\n",
            "\u001b[2K   \u001b[90m━━━━━━━━━━━━━━━━━━━━━━━━━━━━━━━━━━━━━━━━\u001b[0m \u001b[32m129.3/129.3 kB\u001b[0m \u001b[31m12.2 MB/s\u001b[0m eta \u001b[36m0:00:00\u001b[0m\n",
            "\u001b[2K   \u001b[90m━━━━━━━━━━━━━━━━━━━━━━━━━━━━━━━━━━━━━━━━\u001b[0m \u001b[32m150.9/150.9 kB\u001b[0m \u001b[31m10.8 MB/s\u001b[0m eta \u001b[36m0:00:00\u001b[0m\n",
            "\u001b[2K   \u001b[90m━━━━━━━━━━━━━━━━━━━━━━━━━━━━━━━━━━━━━━━━\u001b[0m \u001b[32m45.2/45.2 kB\u001b[0m \u001b[31m3.3 MB/s\u001b[0m eta \u001b[36m0:00:00\u001b[0m\n",
            "\u001b[?25h"
          ]
        }
      ],
      "source": [
        "# Installing the SDK\n",
        "!pip install -Uq openai-agents"
      ]
    },
    {
      "cell_type": "code",
      "source": [
        "# For running event loop\n",
        "import nest_asyncio\n",
        "nest_asyncio.apply()"
      ],
      "metadata": {
        "id": "J9rYqXSSzYEA"
      },
      "execution_count": null,
      "outputs": []
    },
    {
      "cell_type": "code",
      "source": [
        "# Pre requisites SetUp\n",
        "from google.colab import userdata\n",
        "GOOGLE_API_KEY= userdata.get('GOOGLE_API_KEY')\n",
        "\n",
        "from agents import set_default_openai_api,set_default_openai_client,set_tracing_disabled\n",
        "from openai import AsyncOpenAI\n",
        "\n",
        "external_client = AsyncOpenAI(\n",
        "    base_url = \"https://generativelanguage.googleapis.com/v1beta/openai/\",\n",
        "    api_key = GOOGLE_API_KEY\n",
        ")\n",
        "set_default_openai_client(external_client)\n",
        "set_default_openai_api(\"chat_completions\")\n",
        "set_tracing_disabled(True)"
      ],
      "metadata": {
        "id": "JaFph2tAzaJj"
      },
      "execution_count": null,
      "outputs": []
    },
    {
      "cell_type": "markdown",
      "source": [
        "# Guardrail Types\n",
        "There are two types of guardrials :\n",
        "\n",
        "1. **InputGuardrails**\n",
        "2. **OutputGuardrails**"
      ],
      "metadata": {
        "id": "5k-h7eCL1oJl"
      }
    },
    {
      "cell_type": "code",
      "source": [
        "from agents import Runner, Agent, InputGuardrail,output_guardrail,RunContextWrapper,GuardrailFunctionOutput,InputGuardrailTripwireTriggered,OutputGuardrailTripwireTriggered\n",
        "from pydantic import BaseModel\n",
        "\n",
        "class is_homework_question(BaseModel):\n",
        "  is_homework: bool\n",
        "  response: str\n",
        "  reasoning : str\n",
        "\n",
        "class Personal_Info(BaseModel):\n",
        "  is_phone_num : bool\n",
        "  is_name : bool\n",
        "\n",
        "input_guardrail_agent = Agent(\n",
        "    name = \"input_guardrail_agent\",\n",
        "    instructions=\"You are a guardrail agent that checks is the user asked for homework question or not\",\n",
        "    model = \"gemini-2.5-flash\",\n",
        "    output_type = is_homework_question\n",
        ")\n",
        "\n",
        "def input_guardrail_func(context:RunContextWrapper,agent:Agent,input_data)->GuardrailFunctionOutput:\n",
        "  result = Runner.run_sync(\n",
        "      input_guardrail_agent,\n",
        "      input=input_data,\n",
        "      context = context\n",
        "  )\n",
        "  final_result = result.final_output_as(is_homework_question)\n",
        "  return GuardrailFunctionOutput(\n",
        "      output_info = final_result.reasoning,\n",
        "      tripwire_triggered = not final_result.is_homework\n",
        "  )\n",
        "\n",
        "output_guardrail_agent = Agent(\n",
        "    name = \"output_guardrail_agent\",\n",
        "    instructions=\"You are a guardrail agent that checks if the output contains personal information or not\",\n",
        "    model = \"gemini-2.5-flash\",\n",
        "    output_type = Personal_Info\n",
        ")\n",
        "\n",
        "@output_guardrail\n",
        "async def output_guardrail_func(context:RunContextWrapper,agent:Agent,output_data)->GuardrailFunctionOutput:\n",
        "  result = await Runner.run(\n",
        "      output_guardrail_agent,\n",
        "      input=output_data,\n",
        "      context = context\n",
        "  )\n",
        "  final_result = result.final_output_as(Personal_Info)\n",
        "  return GuardrailFunctionOutput(\n",
        "      output_info = \"Personal Info Cannot be Given\",\n",
        "      tripwire_triggered = final_result.is_name or final_result.is_phone_num\n",
        "  )\n",
        "\n",
        "main_agent = Agent(\n",
        "    name = \"main_agent\",\n",
        "    instructions=\"You are a helpful assistant\",\n",
        "    model = \"gemini-2.5-flash\",\n",
        "    input_guardrails = [InputGuardrail(\n",
        "        guardrail_function = input_guardrail_func,\n",
        "        name = \"Input_Guardrail\"\n",
        "    )],\n",
        "    output_guardrails = [output_guardrail_func]\n",
        ")"
      ],
      "metadata": {
        "id": "-DkyKytF1Zn1"
      },
      "execution_count": null,
      "outputs": []
    },
    {
      "cell_type": "markdown",
      "source": [
        "# Input Guardrails Test"
      ],
      "metadata": {
        "id": "L5PpiTfh6cKt"
      }
    },
    {
      "cell_type": "code",
      "source": [
        "# no input tripwire triggered\n",
        "try:\n",
        "  result_with_input_guardrails = await Runner.run(\n",
        "      main_agent,\n",
        "      input = \"What is the capital of Germany this is for my homework?\"\n",
        "  )\n",
        "  print(result_with_input_guardrails.final_output)\n",
        "except InputGuardrailTripwireTriggered as e:\n",
        "  print(f\"Input Guardrails Triggered: {e.guardrail_result.output.output_info}\")\n",
        "  print(f\"Input Guardrails Triggered: {e.guardrail_result.output.tripwire_triggered}\")\n",
        "  print(f\"Sorry I can help you with only Homework Related Question\")\n",
        "  print(\"=======\" * 20)"
      ],
      "metadata": {
        "colab": {
          "base_uri": "https://localhost:8080/"
        },
        "id": "IdBhCX0C5ZyP",
        "outputId": "6478e1d0-69ef-4107-d212-286e41ed36f7"
      },
      "execution_count": null,
      "outputs": [
        {
          "output_type": "stream",
          "name": "stdout",
          "text": [
            "The capital of Germany is **Berlin**.\n"
          ]
        }
      ]
    },
    {
      "cell_type": "code",
      "source": [
        "# input tripwire triggered\n",
        "try:\n",
        "  result_with_input_guardrails = await Runner.run(\n",
        "      main_agent,\n",
        "      input = \"How to play cricket?\"\n",
        "  )\n",
        "  print(result_with_input_guardrails.final_output)\n",
        "except InputGuardrailTripwireTriggered as e:\n",
        "  print(f\"Input Guardrails Triggered: {e.guardrail_result.output.output_info}\")\n",
        "  print(f\"Input Guardrails Triggered: {e.guardrail_result.output.tripwire_triggered}\")\n",
        "  print(f\"Sorry I can help you with only Homework Related Question\")\n",
        "  print(\"=======\" * 20)"
      ],
      "metadata": {
        "colab": {
          "base_uri": "https://localhost:8080/"
        },
        "id": "vEriqkvb7LCQ",
        "outputId": "b7ffb711-d691-4db1-bd13-0009e53ccddd"
      },
      "execution_count": null,
      "outputs": [
        {
          "output_type": "stream",
          "name": "stdout",
          "text": [
            "Input Guardrails Triggered: The user is asking a general 'how-to' question about playing a sport, which is not typically considered a homework assignment.\n",
            "Input Guardrails Triggered: True\n",
            "Sorry I can help you with only Homework Related Question\n",
            "============================================================================================================================================\n"
          ]
        }
      ]
    },
    {
      "cell_type": "markdown",
      "source": [
        "# Output Guardrails Test"
      ],
      "metadata": {
        "id": "frXVdi9H9CGw"
      }
    },
    {
      "cell_type": "code",
      "source": [
        "# no output tripwire triggered\n",
        "try:\n",
        "  result_with_input_guardrails = await Runner.run(\n",
        "      main_agent,\n",
        "      input = \"What is the AI in 2 lines this is for my homework?\"\n",
        "  )\n",
        "  print(result_with_input_guardrails.final_output)\n",
        "except OutputGuardrailTripwireTriggered as e:\n",
        "  print(f\"Output Guardrails Triggered: {e.guardrail_result.output.output_info}\")\n",
        "  print(f\"Output Guardrails Triggered: {e.guardrail_result.output.tripwire_triggered}\")\n",
        "  print(f\"Sorry the response contains the personal info so cannot answer\")\n",
        "  print(\"=======\" * 20)"
      ],
      "metadata": {
        "colab": {
          "base_uri": "https://localhost:8080/"
        },
        "id": "tpVsJI5G82ik",
        "outputId": "935cc3e8-9119-4b06-bccb-3772c8c5cb14"
      },
      "execution_count": null,
      "outputs": [
        {
          "output_type": "stream",
          "name": "stdout",
          "text": [
            "Artificial Intelligence (AI) is when computers are programmed to think and learn.\n",
            "It lets machines perform tasks that normally require human intelligence, like problem-solving or understanding language.\n"
          ]
        }
      ]
    },
    {
      "cell_type": "code",
      "source": [
        "# output tripwire triggered\n",
        "try:\n",
        "  result_with_input_guardrails = await Runner.run(\n",
        "      main_agent,\n",
        "      input = \"What is the AI in 2 lines this is for my homework, reply me with my name 'Saim Hassan'?\"\n",
        "  )\n",
        "  print(result_with_input_guardrails.final_output)\n",
        "except OutputGuardrailTripwireTriggered as e:\n",
        "  print(f\"Output Guardrails Triggered: {e.guardrail_result.agent}\")\n",
        "  print(f\"Output Guardrails Triggered: {e.guardrail_result.output.output_info}\")\n",
        "  print(f\"Output Guardrails Triggered: {e.guardrail_result.agent_output}\")\n",
        "  print(f\"Output Guardrails Triggered: {e.guardrail_result.output.tripwire_triggered}\")\n",
        "  print(f\"Sorry the response contains the personal info so cannot answer\")\n",
        "  print(\"=======\" * 20)"
      ],
      "metadata": {
        "colab": {
          "base_uri": "https://localhost:8080/"
        },
        "id": "1r1HY3eh9aLc",
        "outputId": "e4c5149b-36c4-4a41-f504-66653a45e201"
      },
      "execution_count": null,
      "outputs": [
        {
          "output_type": "stream",
          "name": "stdout",
          "text": [
            "Output Guardrails Triggered: Agent(name='main_agent', instructions='You are a helpful assistant', prompt=None, handoff_description=None, handoffs=[], model='gemini-2.5-flash', model_settings=ModelSettings(temperature=None, top_p=None, frequency_penalty=None, presence_penalty=None, tool_choice=None, parallel_tool_calls=None, truncation=None, max_tokens=None, reasoning=None, metadata=None, store=None, include_usage=None, response_include=None, extra_query=None, extra_body=None, extra_headers=None, extra_args=None), tools=[], mcp_servers=[], mcp_config={}, input_guardrails=[InputGuardrail(guardrail_function=<function input_guardrail_func at 0x7cfe23c40b80>, name='Input_Guardrail')], output_guardrails=[OutputGuardrail(guardrail_function=<function output_guardrail_func at 0x7cfe23c428e0>, name=None)], output_type=None, hooks=None, tool_use_behavior='run_llm_again', reset_tool_choice=True)\n",
            "Output Guardrails Triggered: Personal Info Cannot be Given\n",
            "Output Guardrails Triggered: Saim Hassan, here is your AI definition:\n",
            "\n",
            "AI is the science of building machines that can think, learn, and solve problems. It enables computers to simulate human intelligence for tasks like decision-making and language understanding.\n",
            "Output Guardrails Triggered: True\n",
            "Sorry the response contains the personal info so cannot answer\n",
            "============================================================================================================================================\n"
          ]
        }
      ]
    }
  ]
}