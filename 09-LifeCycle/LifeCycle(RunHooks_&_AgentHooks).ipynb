{
  "nbformat": 4,
  "nbformat_minor": 0,
  "metadata": {
    "colab": {
      "provenance": [],
      "authorship_tag": "ABX9TyM+wjD1N93zxpiXaNbKYmWB",
      "include_colab_link": true
    },
    "kernelspec": {
      "name": "python3",
      "display_name": "Python 3"
    },
    "language_info": {
      "name": "python"
    }
  },
  "cells": [
    {
      "cell_type": "markdown",
      "metadata": {
        "id": "view-in-github",
        "colab_type": "text"
      },
      "source": [
        "<a href=\"https://colab.research.google.com/github/Saim-Hassan786/Learn-Agentic-AI-With-OpenAI-Agents-SDK/blob/main/09-LifeCycle/LifeCycle(RunHooks_%26_AgentHooks).ipynb\" target=\"_parent\"><img src=\"https://colab.research.google.com/assets/colab-badge.svg\" alt=\"Open In Colab\"/></a>"
      ]
    },
    {
      "cell_type": "markdown",
      "source": [
        "# LifeCycle (RunHooks & AgentHooks)\n",
        "**Lifecycle or hooks are callback functions that receive different lifecycle events of an Agent run.**"
      ],
      "metadata": {
        "id": "-yQK1xLfgY35"
      }
    },
    {
      "cell_type": "code",
      "execution_count": null,
      "metadata": {
        "colab": {
          "base_uri": "https://localhost:8080/"
        },
        "id": "dhrHYsAdzNny",
        "outputId": "faa05400-0d8c-442a-c1f4-79e17fa59d5b"
      },
      "outputs": [
        {
          "output_type": "stream",
          "name": "stdout",
          "text": [
            "\u001b[2K     \u001b[90m━━━━━━━━━━━━━━━━━━━━━━━━━━━━━━━━━━━━━━━━\u001b[0m \u001b[32m40.1/40.1 kB\u001b[0m \u001b[31m1.3 MB/s\u001b[0m eta \u001b[36m0:00:00\u001b[0m\n",
            "\u001b[2K   \u001b[90m━━━━━━━━━━━━━━━━━━━━━━━━━━━━━━━━━━━━━━━━\u001b[0m \u001b[32m130.6/130.6 kB\u001b[0m \u001b[31m7.3 MB/s\u001b[0m eta \u001b[36m0:00:00\u001b[0m\n",
            "\u001b[2K   \u001b[90m━━━━━━━━━━━━━━━━━━━━━━━━━━━━━━━━━━━━━━━━\u001b[0m \u001b[32m129.3/129.3 kB\u001b[0m \u001b[31m9.8 MB/s\u001b[0m eta \u001b[36m0:00:00\u001b[0m\n",
            "\u001b[2K   \u001b[90m━━━━━━━━━━━━━━━━━━━━━━━━━━━━━━━━━━━━━━━━\u001b[0m \u001b[32m150.9/150.9 kB\u001b[0m \u001b[31m8.1 MB/s\u001b[0m eta \u001b[36m0:00:00\u001b[0m\n",
            "\u001b[2K   \u001b[90m━━━━━━━━━━━━━━━━━━━━━━━━━━━━━━━━━━━━━━━━\u001b[0m \u001b[32m45.2/45.2 kB\u001b[0m \u001b[31m2.0 MB/s\u001b[0m eta \u001b[36m0:00:00\u001b[0m\n",
            "\u001b[?25h"
          ]
        }
      ],
      "source": [
        "# Installing the SDK\n",
        "!pip install -Uq openai-agents"
      ]
    },
    {
      "cell_type": "code",
      "source": [
        "# For running event loop\n",
        "import nest_asyncio\n",
        "nest_asyncio.apply()"
      ],
      "metadata": {
        "id": "J9rYqXSSzYEA"
      },
      "execution_count": null,
      "outputs": []
    },
    {
      "cell_type": "code",
      "source": [
        "# Pre requisites SetUp\n",
        "from google.colab import userdata\n",
        "GROQ_API_KEY= userdata.get('GROQ_API_KEY')\n",
        "\n",
        "from agents import set_default_openai_api,set_default_openai_client,set_tracing_disabled\n",
        "from openai import AsyncOpenAI\n",
        "\n",
        "external_client = AsyncOpenAI(\n",
        "    base_url = \"https://groq.helicone.ai/openai/v1\",\n",
        "    api_key = GROQ_API_KEY\n",
        ")\n",
        "set_default_openai_client(external_client)\n",
        "set_default_openai_api(\"chat_completions\")\n",
        "set_tracing_disabled(True)"
      ],
      "metadata": {
        "id": "JaFph2tAzaJj"
      },
      "execution_count": null,
      "outputs": []
    },
    {
      "cell_type": "markdown",
      "source": [
        "# RunHooks\n",
        "**These hooks or lifecycle events are specific for the Runner Loop and they executes for every agent called in the loop.**"
      ],
      "metadata": {
        "id": "sdvOpGiuhDKB"
      }
    },
    {
      "cell_type": "code",
      "source": [
        "from agents import Agent,Runner,RunHooks,RunContextWrapper,function_tool\n",
        "\n",
        "# Initializing Runhooks from RunHooks class\n",
        "class MyRunHooks(RunHooks):\n",
        "  def __init__(self,agent_name):\n",
        "    self.agent_name = agent_name\n",
        "\n",
        "  async def on_agent_start(self, context: RunContextWrapper, agent: Agent) -> None:\n",
        "    print(f\"Agent {self.agent_name} is Welcomed ✨\")\n",
        "    print(f\"Agent {agent.name} started\")\n",
        "    print(f\"Context: {context.usage}\")\n",
        "\n",
        "  async def on_agent_end(self, context: RunContextWrapper, agent: Agent,output) -> None:\n",
        "    print(f\"Agent {agent.name} ended\")\n",
        "    print(f\"Context: {context.usage}\")\n",
        "    print(f\"Output: {output}\")\n",
        "\n",
        "  async def on_handoff(self, context: RunContextWrapper, from_agent: Agent, to_agent: Agent) -> None:\n",
        "    print(f\"Handoff from {from_agent.name} to {to_agent.name}\")\n",
        "    print(f\"Context: {context.usage}\")\n",
        "\n",
        "  async def on_tool_start(self, context: RunContextWrapper, agent: Agent, tool) -> None:\n",
        "    print(f\"Tool {tool.name} started\")\n",
        "    print(f\"Context: {context.usage}\")\n",
        "\n",
        "  async def on_tool_end(self, context: RunContextWrapper, agent: Agent, tool, output) -> None:\n",
        "    print(f\"Tool {tool.name} ended\")\n",
        "    print(f\"Context: {context.usage}\")\n",
        "\n",
        "\n",
        "@function_tool\n",
        "def get_weather(location:str):\n",
        "  return f\"The weather in {location} is sunny\"\n",
        "\n",
        "agent_spanish = Agent(\n",
        "    name = \"Spanish Translation Agent\",\n",
        "    instructions=\"Translate the user asked text into spanish\",\n",
        "    model = \"llama3-70b-8192\",\n",
        "    handoff_description=\"Spanish assistant that helps in translation of asked text\"\n",
        ")\n",
        "\n",
        "main_agent = Agent(\n",
        "    name = \"Main Agent\",\n",
        "    instructions=\"Reply to user queries **without using any tools**, unless it's a translation request.\",\n",
        "    model = \"llama3-70b-8192\",\n",
        "    handoffs=[agent_spanish],\n",
        "    tools=[get_weather]\n",
        ")"
      ],
      "metadata": {
        "id": "IzbEcdd4L9eY"
      },
      "execution_count": null,
      "outputs": []
    },
    {
      "cell_type": "code",
      "source": [
        "result_1 = await Runner.run(\n",
        "    main_agent,\n",
        "    \"What is the weather in New York?\",\n",
        "    hooks=MyRunHooks(\"Saim's Agent\")\n",
        ")\n",
        "print(\"=======\"*20)\n",
        "print(f\"Final Output : {result_1.final_output}\")"
      ],
      "metadata": {
        "colab": {
          "base_uri": "https://localhost:8080/"
        },
        "id": "NHA7xAacjrS0",
        "outputId": "b5d68490-95d9-4509-be2a-8874e469920c"
      },
      "execution_count": null,
      "outputs": [
        {
          "output_type": "stream",
          "name": "stdout",
          "text": [
            "Agent Saim's Agent is Welcomed ✨\n",
            "Agent Main Agent started\n",
            "Context: Usage(requests=0, input_tokens=0, input_tokens_details=InputTokensDetails(cached_tokens=0), output_tokens=0, output_tokens_details=OutputTokensDetails(reasoning_tokens=0), total_tokens=0)\n",
            "Tool get_weather started\n",
            "Context: Usage(requests=1, input_tokens=1014, input_tokens_details=InputTokensDetails(cached_tokens=0), output_tokens=44, output_tokens_details=OutputTokensDetails(reasoning_tokens=0), total_tokens=1058)\n",
            "Tool get_weather ended\n",
            "Context: Usage(requests=1, input_tokens=1014, input_tokens_details=InputTokensDetails(cached_tokens=0), output_tokens=44, output_tokens_details=OutputTokensDetails(reasoning_tokens=0), total_tokens=1058)\n",
            "Agent Main Agent ended\n",
            "Context: Usage(requests=2, input_tokens=2100, input_tokens_details=InputTokensDetails(cached_tokens=0), output_tokens=53, output_tokens_details=OutputTokensDetails(reasoning_tokens=0), total_tokens=2153)\n",
            "Output: The weather in New York is sunny.\n",
            "============================================================================================================================================\n",
            "Final Output : The weather in New York is sunny.\n"
          ]
        }
      ]
    },
    {
      "cell_type": "code",
      "source": [
        "result_2 = await Runner.run(\n",
        "    main_agent,\n",
        "    \"Translate the following passage 'I am good what about you' in spanish \",\n",
        "    hooks=MyRunHooks(\"Saim's Agent\")\n",
        ")\n",
        "print(\"=======\"*20)\n",
        "print(f\"Final Output : {result_2.final_output}\")"
      ],
      "metadata": {
        "colab": {
          "base_uri": "https://localhost:8080/"
        },
        "id": "-Uv7fL7rkGHe",
        "outputId": "a5fa8cc1-1d30-4e9c-a6f5-249213fc9482"
      },
      "execution_count": null,
      "outputs": [
        {
          "output_type": "stream",
          "name": "stdout",
          "text": [
            "Agent Saim's Agent is Welcomed ✨\n",
            "Agent Main Agent started\n",
            "Context: Usage(requests=0, input_tokens=0, input_tokens_details=InputTokensDetails(cached_tokens=0), output_tokens=0, output_tokens_details=OutputTokensDetails(reasoning_tokens=0), total_tokens=0)\n",
            "Handoff from Main Agent to Spanish Translation Agent\n",
            "Context: Usage(requests=1, input_tokens=1021, input_tokens_details=InputTokensDetails(cached_tokens=0), output_tokens=35, output_tokens_details=OutputTokensDetails(reasoning_tokens=0), total_tokens=1056)\n",
            "Agent Saim's Agent is Welcomed ✨\n",
            "Agent Spanish Translation Agent started\n",
            "Context: Usage(requests=1, input_tokens=1021, input_tokens_details=InputTokensDetails(cached_tokens=0), output_tokens=35, output_tokens_details=OutputTokensDetails(reasoning_tokens=0), total_tokens=1056)\n",
            "Agent Spanish Translation Agent ended\n",
            "Context: Usage(requests=2, input_tokens=1132, input_tokens_details=InputTokensDetails(cached_tokens=0), output_tokens=95, output_tokens_details=OutputTokensDetails(reasoning_tokens=0), total_tokens=1227)\n",
            "Output: The correct translation of the passage \"I am good what about you\" in Spanish is:\n",
            "\n",
            "\"Estoy bien, ¿y tú?\"\n",
            "\n",
            "Here's a breakdown of the translation:\n",
            "\n",
            "* \"I am good\" = \"Estoy bien\"\n",
            "* \"what about you\" = \"¿y tú?\"\n",
            "============================================================================================================================================\n",
            "Final Output : The correct translation of the passage \"I am good what about you\" in Spanish is:\n",
            "\n",
            "\"Estoy bien, ¿y tú?\"\n",
            "\n",
            "Here's a breakdown of the translation:\n",
            "\n",
            "* \"I am good\" = \"Estoy bien\"\n",
            "* \"what about you\" = \"¿y tú?\"\n"
          ]
        }
      ]
    },
    {
      "cell_type": "markdown",
      "source": [
        "# AgentHooks\n",
        "**These hooks are specific to an Agent and only executes for the specific agent when invoked.**"
      ],
      "metadata": {
        "id": "qPwIBhfek9Wv"
      }
    },
    {
      "cell_type": "code",
      "source": [
        "from agents import Agent,Runner,AgentHooks,RunContextWrapper,function_tool\n",
        "\n",
        "# Initializing Runhooks from RunHooks class\n",
        "class MyAgentHooks(AgentHooks):\n",
        "  def __init__(self,agent_name):\n",
        "    self.agent_name = agent_name\n",
        "\n",
        "  async def on_start(self, context: RunContextWrapper, agent: Agent) -> None:\n",
        "    print(f\"Agent {self.agent_name} is Welcomed ✨\")\n",
        "    print(f\"Agent {agent.name} started\")\n",
        "    print(f\"Context: {context.usage}\")\n",
        "\n",
        "  async def on_end(self, context: RunContextWrapper, agent: Agent,output) -> None:\n",
        "    print(f\"Agent {agent.name} ended\")\n",
        "    print(f\"Context: {context.usage}\")\n",
        "    print(f\"Output: {output}\")\n",
        "\n",
        "  async def on_handoff(self, context: RunContextWrapper, agent: Agent, source: Agent) -> None:\n",
        "    print(f\"Handoff from {agent.name} to {source.name}\")\n",
        "    print(f\"Context: {context.usage}\")\n",
        "\n",
        "  async def on_tool_start(self, context: RunContextWrapper, agent: Agent, tool) -> None:\n",
        "    print(f\"Tool {tool.name} started\")\n",
        "    print(f\"Context: {context.usage}\")\n",
        "\n",
        "  async def on_tool_end(self, context: RunContextWrapper, agent: Agent, tool, output) -> None:\n",
        "    print(f\"Tool {tool.name} ended\")\n",
        "    print(f\"Context: {context.usage}\")\n",
        "\n",
        "\n",
        "@function_tool\n",
        "def get_weather(location:str):\n",
        "  return f\"The weather in {location} is sunny\"\n",
        "\n",
        "agent_spanish = Agent(\n",
        "    name = \"Spanish Translation Agent\",\n",
        "    instructions=\"Translate the user asked text into spanish\",\n",
        "    model = \"llama3-70b-8192\",\n",
        "    handoff_description=\"Spanish assistant that helps in translation of asked text\",\n",
        "    hooks=MyAgentHooks(\"Saim's Spanish Agent\")\n",
        ")\n",
        "\n",
        "main_agent = Agent(\n",
        "    name = \"Main Agent\",\n",
        "    instructions=\"Reply to user queries **without using any tools**, unless it's a translation request.\",\n",
        "    model = \"llama3-70b-8192\",\n",
        "    handoffs=[agent_spanish],\n",
        "    tools=[get_weather],\n",
        "    hooks=MyAgentHooks(\"Saim's Main Agent\")\n",
        ")"
      ],
      "metadata": {
        "id": "RwlFA7dLljMn"
      },
      "execution_count": null,
      "outputs": []
    },
    {
      "cell_type": "code",
      "source": [
        "result_with_agent_hooks = await Runner.run(\n",
        "    main_agent,\n",
        "    \"What is the weather in New York?\",\n",
        ")\n",
        "print(\"=======\"*20)\n",
        "print(f\"Final Output : {result_with_agent_hooks.final_output}\")"
      ],
      "metadata": {
        "colab": {
          "base_uri": "https://localhost:8080/"
        },
        "outputId": "77af661e-d624-428c-8c51-17f737db6282",
        "id": "pdP5oKDsl-CD"
      },
      "execution_count": null,
      "outputs": [
        {
          "output_type": "stream",
          "name": "stdout",
          "text": [
            "Agent Saim's Main Agent is Welcomed ✨\n",
            "Agent Main Agent started\n",
            "Context: Usage(requests=0, input_tokens=0, input_tokens_details=InputTokensDetails(cached_tokens=0), output_tokens=0, output_tokens_details=OutputTokensDetails(reasoning_tokens=0), total_tokens=0)\n",
            "Tool get_weather started\n",
            "Context: Usage(requests=1, input_tokens=1014, input_tokens_details=InputTokensDetails(cached_tokens=0), output_tokens=74, output_tokens_details=OutputTokensDetails(reasoning_tokens=0), total_tokens=1088)\n",
            "Tool get_weather ended\n",
            "Context: Usage(requests=1, input_tokens=1014, input_tokens_details=InputTokensDetails(cached_tokens=0), output_tokens=74, output_tokens_details=OutputTokensDetails(reasoning_tokens=0), total_tokens=1088)\n",
            "Agent Main Agent ended\n",
            "Context: Usage(requests=2, input_tokens=2100, input_tokens_details=InputTokensDetails(cached_tokens=0), output_tokens=83, output_tokens_details=OutputTokensDetails(reasoning_tokens=0), total_tokens=2183)\n",
            "Output: The weather in New York is sunny.\n",
            "============================================================================================================================================\n",
            "Final Output : The weather in New York is sunny.\n"
          ]
        }
      ]
    },
    {
      "cell_type": "code",
      "source": [
        "result_with_agent_hooks_2 = await Runner.run(\n",
        "    main_agent,\n",
        "    \"Translate the following passage 'I am good what about you' in spanish \",\n",
        ")\n",
        "print(\"=======\"*20)\n",
        "print(f\"Final Output : {result_with_agent_hooks_2.final_output}\")"
      ],
      "metadata": {
        "colab": {
          "base_uri": "https://localhost:8080/"
        },
        "id": "jOebN98omQGv",
        "outputId": "40ed6372-ab70-46f9-8ab9-2a126a73e651"
      },
      "execution_count": null,
      "outputs": [
        {
          "output_type": "stream",
          "name": "stdout",
          "text": [
            "Agent Saim's Main Agent is Welcomed ✨\n",
            "Agent Main Agent started\n",
            "Context: Usage(requests=0, input_tokens=0, input_tokens_details=InputTokensDetails(cached_tokens=0), output_tokens=0, output_tokens_details=OutputTokensDetails(reasoning_tokens=0), total_tokens=0)\n",
            "Handoff from Spanish Translation Agent to Main Agent\n",
            "Context: Usage(requests=1, input_tokens=1021, input_tokens_details=InputTokensDetails(cached_tokens=0), output_tokens=43, output_tokens_details=OutputTokensDetails(reasoning_tokens=0), total_tokens=1064)\n",
            "Agent Saim's Spanish Agent is Welcomed ✨\n",
            "Agent Spanish Translation Agent started\n",
            "Context: Usage(requests=1, input_tokens=1021, input_tokens_details=InputTokensDetails(cached_tokens=0), output_tokens=43, output_tokens_details=OutputTokensDetails(reasoning_tokens=0), total_tokens=1064)\n",
            "Agent Spanish Translation Agent ended\n",
            "Context: Usage(requests=2, input_tokens=1134, input_tokens_details=InputTokensDetails(cached_tokens=0), output_tokens=103, output_tokens_details=OutputTokensDetails(reasoning_tokens=0), total_tokens=1237)\n",
            "Output: The correct translation of the passage \"I am good what about you\" in Spanish is:\n",
            "\n",
            "\"Estoy bien, ¿y tú?\"\n",
            "\n",
            "Here's a breakdown of the translation:\n",
            "\n",
            "* \"I am good\" = \"Estoy bien\"\n",
            "* \"what about you\" = \"¿y tú?\"\n",
            "============================================================================================================================================\n",
            "Final Output : The correct translation of the passage \"I am good what about you\" in Spanish is:\n",
            "\n",
            "\"Estoy bien, ¿y tú?\"\n",
            "\n",
            "Here's a breakdown of the translation:\n",
            "\n",
            "* \"I am good\" = \"Estoy bien\"\n",
            "* \"what about you\" = \"¿y tú?\"\n"
          ]
        }
      ]
    }
  ]
}