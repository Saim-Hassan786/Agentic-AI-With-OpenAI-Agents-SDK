{
  "nbformat": 4,
  "nbformat_minor": 0,
  "metadata": {
    "colab": {
      "provenance": [],
      "authorship_tag": "ABX9TyO1WXUdObR4jwXgWzbJL+x4",
      "include_colab_link": true
    },
    "kernelspec": {
      "name": "python3",
      "display_name": "Python 3"
    },
    "language_info": {
      "name": "python"
    }
  },
  "cells": [
    {
      "cell_type": "markdown",
      "metadata": {
        "id": "view-in-github",
        "colab_type": "text"
      },
      "source": [
        "<a href=\"https://colab.research.google.com/github/Saim-Hassan786/Agentic-AI-With-OpenAI-Agents-SDK/blob/main/11-RunnerContext/RunnerContext.ipynb\" target=\"_parent\"><img src=\"https://colab.research.google.com/assets/colab-badge.svg\" alt=\"Open In Colab\"/></a>"
      ]
    },
    {
      "cell_type": "markdown",
      "source": [
        "# RunContext\n",
        "RunContext is the **context** that we pass to the **Runner** in the **context** parameter this context is not passed to the LLM and is used by our implemented code tool fucntions, hooks callbacks etc"
      ],
      "metadata": {
        "id": "dh3nlLwhssqT"
      }
    },
    {
      "cell_type": "code",
      "execution_count": null,
      "metadata": {
        "colab": {
          "base_uri": "https://localhost:8080/"
        },
        "id": "dhrHYsAdzNny",
        "outputId": "cf5dd640-8809-4752-f3a1-28e8a7db97d3"
      },
      "outputs": [
        {
          "output_type": "stream",
          "name": "stdout",
          "text": [
            "\u001b[2K     \u001b[90m━━━━━━━━━━━━━━━━━━━━━━━━━━━━━━━━━━━━━━━━\u001b[0m \u001b[32m40.1/40.1 kB\u001b[0m \u001b[31m1.5 MB/s\u001b[0m eta \u001b[36m0:00:00\u001b[0m\n",
            "\u001b[2K   \u001b[90m━━━━━━━━━━━━━━━━━━━━━━━━━━━━━━━━━━━━━━━━\u001b[0m \u001b[32m130.6/130.6 kB\u001b[0m \u001b[31m5.3 MB/s\u001b[0m eta \u001b[36m0:00:00\u001b[0m\n",
            "\u001b[2K   \u001b[90m━━━━━━━━━━━━━━━━━━━━━━━━━━━━━━━━━━━━━━━━\u001b[0m \u001b[32m129.3/129.3 kB\u001b[0m \u001b[31m7.6 MB/s\u001b[0m eta \u001b[36m0:00:00\u001b[0m\n",
            "\u001b[2K   \u001b[90m━━━━━━━━━━━━━━━━━━━━━━━━━━━━━━━━━━━━━━━━\u001b[0m \u001b[32m150.9/150.9 kB\u001b[0m \u001b[31m10.4 MB/s\u001b[0m eta \u001b[36m0:00:00\u001b[0m\n",
            "\u001b[2K   \u001b[90m━━━━━━━━━━━━━━━━━━━━━━━━━━━━━━━━━━━━━━━━\u001b[0m \u001b[32m45.2/45.2 kB\u001b[0m \u001b[31m2.4 MB/s\u001b[0m eta \u001b[36m0:00:00\u001b[0m\n",
            "\u001b[?25h"
          ]
        }
      ],
      "source": [
        "# Installing the SDK\n",
        "!pip install -Uq openai-agents"
      ]
    },
    {
      "cell_type": "code",
      "source": [
        "# For running event loop\n",
        "import nest_asyncio\n",
        "nest_asyncio.apply()"
      ],
      "metadata": {
        "id": "J9rYqXSSzYEA"
      },
      "execution_count": null,
      "outputs": []
    },
    {
      "cell_type": "code",
      "source": [
        "# Pre requisites SetUp\n",
        "from google.colab import userdata\n",
        "GROQ_API_KEY= userdata.get('GROQ_API_KEY')\n",
        "\n",
        "from agents import set_default_openai_api,set_default_openai_client,set_tracing_disabled\n",
        "from openai import AsyncOpenAI\n",
        "\n",
        "external_client = AsyncOpenAI(\n",
        "    base_url = \"https://groq.helicone.ai/openai/v1\",\n",
        "    api_key = GROQ_API_KEY\n",
        ")\n",
        "set_default_openai_client(external_client)\n",
        "set_default_openai_api(\"chat_completions\")\n",
        "set_tracing_disabled(True)"
      ],
      "metadata": {
        "id": "JaFph2tAzaJj"
      },
      "execution_count": null,
      "outputs": []
    },
    {
      "cell_type": "code",
      "source": [
        "from agents import Agent,RunConfig,function_tool,RunContextWrapper,Runner\n",
        "from pydantic import BaseModel\n",
        "\n",
        "class Context(BaseModel):\n",
        "  name: str\n",
        "  age: int\n",
        "\n",
        "@function_tool\n",
        "def greet_user_with_context(ctx:RunContextWrapper[Context]):\n",
        "  return f\"Hello {ctx.context.name} you are {ctx.context.age} years old\"\n",
        "\n",
        "agent_with_context = Agent(\n",
        "    name = \"Context Agent\",\n",
        "    instructions=\"Greeting Agent\",\n",
        "    model = \"llama3-70b-8192\",\n",
        "    tools = [greet_user_with_context]\n",
        ")\n",
        "\n",
        "result_with_context = await Runner.run(\n",
        "    agent_with_context,\n",
        "    \"Can you greet me pls\",\n",
        "    context = Context(name=\"Saim Hassan\",age=25)\n",
        ")"
      ],
      "metadata": {
        "id": "2BiA2jjiuB23"
      },
      "execution_count": null,
      "outputs": []
    },
    {
      "cell_type": "code",
      "source": [
        "print(result_with_context.final_output)"
      ],
      "metadata": {
        "colab": {
          "base_uri": "https://localhost:8080/"
        },
        "id": "N6kGst2jwKAS",
        "outputId": "2dee08d3-7a26-4d46-9f1f-9db77918147c"
      },
      "execution_count": null,
      "outputs": [
        {
          "output_type": "stream",
          "name": "stdout",
          "text": [
            "Hello Saim Hassan, you are 25 years old.\n"
          ]
        }
      ]
    },
    {
      "cell_type": "markdown",
      "source": [
        "# RunContextWrapper\n",
        "It wraps our context and returns 2 objects:\n",
        "\n",
        "1. **context**: this takes our oroginal context that we want to wrapped.\n",
        "2. **usage** : the total usage of the Agent Run so far."
      ],
      "metadata": {
        "id": "4rhZetpIwWgw"
      }
    },
    {
      "cell_type": "code",
      "source": [
        "# context\n",
        "print(result_with_context.context_wrapper.context)"
      ],
      "metadata": {
        "colab": {
          "base_uri": "https://localhost:8080/"
        },
        "id": "xfjL2WTiwQKw",
        "outputId": "fde2c0a2-fad8-4d0c-992c-1bd0cdc8edf3"
      },
      "execution_count": null,
      "outputs": [
        {
          "output_type": "stream",
          "name": "stdout",
          "text": [
            "name='Saim Hassan' age=25\n"
          ]
        }
      ]
    },
    {
      "cell_type": "code",
      "source": [
        "# usage\n",
        "print(result_with_context.context_wrapper.usage)"
      ],
      "metadata": {
        "colab": {
          "base_uri": "https://localhost:8080/"
        },
        "id": "9lG2DuWVw_EE",
        "outputId": "92d001c5-569d-47d6-83ee-d6530bdb7e9d"
      },
      "execution_count": null,
      "outputs": [
        {
          "output_type": "stream",
          "name": "stdout",
          "text": [
            "Usage(requests=2, input_tokens=1823, input_tokens_details=InputTokensDetails(cached_tokens=0), output_tokens=55, output_tokens_details=OutputTokensDetails(reasoning_tokens=0), total_tokens=1878)\n"
          ]
        }
      ]
    },
    {
      "cell_type": "markdown",
      "source": [
        "# Usage\n",
        "This usage attribute contains following features :\n",
        "\n",
        "1. **requests** : the number of requests sent to the LLM\n",
        "2. **input_tokens** : the total tokens sent to the LLM\n",
        "3. **input_token_details** : the details of the input_tokens sent to LLM with **cached_tokens**\n",
        "4. **output_tokens** : the total tokens received from the LLM\n",
        "5. **output_token_details** : the details of the output token recieved from LLM with **reasoning_tokens**\n",
        "6. **add( )**: to add Usage of other agent run"
      ],
      "metadata": {
        "id": "JghZsDAj1BzO"
      }
    },
    {
      "cell_type": "code",
      "source": [
        "from agents import Agent,RunConfig,function_tool,RunContextWrapper,Runner\n",
        "from pydantic import BaseModel\n",
        "\n",
        "class Location(BaseModel):\n",
        "  city : str\n",
        "  country : str\n",
        "\n",
        "@function_tool\n",
        "def user_location(ctx:RunContextWrapper[Location]):\n",
        "  return f\"The user is from {ctx.context.city}  {ctx.context.country}\"\n",
        "\n",
        "agent_with_context_2 = Agent(\n",
        "    name = \"Context Agent 2\",\n",
        "    instructions=\"Assistant Agent\",\n",
        "    model = \"llama3-70b-8192\",\n",
        "    tools = [user_location]\n",
        ")\n",
        "\n",
        "result_with_context_2 = await Runner.run(\n",
        "    agent_with_context_2,\n",
        "    \"Can you tell me my location , myself Saim\",\n",
        "    context = Location(city=\"Lahore\",country=\"Pakistan\")\n",
        ")"
      ],
      "metadata": {
        "id": "hLiuPgLI2h7B"
      },
      "execution_count": null,
      "outputs": []
    },
    {
      "cell_type": "code",
      "source": [
        "print(result_with_context_2.final_output)\n",
        "print(\"==========\"*20)\n",
        "print(result_with_context_2.context_wrapper.usage)\n",
        "print(result_with_context_2.context_wrapper.usage.input_tokens)\n",
        "print(result_with_context_2.context_wrapper.usage.input_tokens_details)\n",
        "print(result_with_context_2.context_wrapper.usage.output_tokens)\n",
        "print(result_with_context_2.context_wrapper.usage.output_tokens_details)"
      ],
      "metadata": {
        "colab": {
          "base_uri": "https://localhost:8080/"
        },
        "id": "uLowiBLgB19A",
        "outputId": "09566fed-dc32-4a03-a5a2-093328bc6d0e"
      },
      "execution_count": null,
      "outputs": [
        {
          "output_type": "stream",
          "name": "stdout",
          "text": [
            "So, Saim, it seems that you are from Lahore, Pakistan.\n",
            "========================================================================================================================================================================================================\n",
            "Usage(requests=2, input_tokens=1817, input_tokens_details=InputTokensDetails(cached_tokens=0), output_tokens=55, output_tokens_details=OutputTokensDetails(reasoning_tokens=0), total_tokens=1872)\n",
            "1817\n",
            "InputTokensDetails(cached_tokens=0)\n",
            "55\n",
            "OutputTokensDetails(reasoning_tokens=0)\n"
          ]
        }
      ]
    },
    {
      "cell_type": "code",
      "source": [
        "# adding the both usage\n",
        "result_with_context_2.context_wrapper.usage.add(result_with_context.context_wrapper.usage)\n",
        "print(result_with_context_2.context_wrapper.usage)"
      ],
      "metadata": {
        "colab": {
          "base_uri": "https://localhost:8080/"
        },
        "id": "gKnp2gEMCMhB",
        "outputId": "633a0acb-9909-46bf-f6c5-bc1846f6a2de"
      },
      "execution_count": null,
      "outputs": [
        {
          "output_type": "stream",
          "name": "stdout",
          "text": [
            "Usage(requests=10, input_tokens=9109, input_tokens_details=InputTokensDetails(cached_tokens=0), output_tokens=275, output_tokens_details=OutputTokensDetails(reasoning_tokens=0), total_tokens=9384)\n"
          ]
        }
      ]
    }
  ]
}
