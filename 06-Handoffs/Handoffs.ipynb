{
  "nbformat": 4,
  "nbformat_minor": 0,
  "metadata": {
    "colab": {
      "provenance": [],
      "authorship_tag": "ABX9TyOY69cC6YgvpkRU3reiASy9",
      "include_colab_link": true
    },
    "kernelspec": {
      "name": "python3",
      "display_name": "Python 3"
    },
    "language_info": {
      "name": "python"
    }
  },
  "cells": [
    {
      "cell_type": "markdown",
      "metadata": {
        "id": "view-in-github",
        "colab_type": "text"
      },
      "source": [
        "<a href=\"https://colab.research.google.com/github/Saim-Hassan786/Learn-Agentic-AI-With-OpenAI-Agents-SDK/blob/main/06-Handoffs/Handoffs.ipynb\" target=\"_parent\"><img src=\"https://colab.research.google.com/assets/colab-badge.svg\" alt=\"Open In Colab\"/></a>"
      ]
    },
    {
      "cell_type": "markdown",
      "source": [
        "# Handoffs\n",
        "Handoffs is a very special feature of OpenAI SDK that enhances the power of an Agentic AI Application by enabling it to delegate tasks to other specialized agents with all the conversational or input history and the agent that has the task delgated to will continue from there and perform the operation and can **handoff** to other specialized agent if it thiks it to be necessary."
      ],
      "metadata": {
        "id": "h_BbQDvvt_0e"
      }
    },
    {
      "cell_type": "code",
      "execution_count": null,
      "metadata": {
        "colab": {
          "base_uri": "https://localhost:8080/"
        },
        "id": "dhrHYsAdzNny",
        "outputId": "ff6c30ee-65ca-4a6f-8270-07bd86db2b2a"
      },
      "outputs": [
        {
          "output_type": "stream",
          "name": "stdout",
          "text": [
            "\u001b[2K     \u001b[90m━━━━━━━━━━━━━━━━━━━━━━━━━━━━━━━━━━━━━━━━\u001b[0m \u001b[32m40.1/40.1 kB\u001b[0m \u001b[31m1.6 MB/s\u001b[0m eta \u001b[36m0:00:00\u001b[0m\n",
            "\u001b[2K   \u001b[90m━━━━━━━━━━━━━━━━━━━━━━━━━━━━━━━━━━━━━━━━\u001b[0m \u001b[32m130.6/130.6 kB\u001b[0m \u001b[31m3.8 MB/s\u001b[0m eta \u001b[36m0:00:00\u001b[0m\n",
            "\u001b[2K   \u001b[90m━━━━━━━━━━━━━━━━━━━━━━━━━━━━━━━━━━━━━━━━\u001b[0m \u001b[32m129.3/129.3 kB\u001b[0m \u001b[31m5.6 MB/s\u001b[0m eta \u001b[36m0:00:00\u001b[0m\n",
            "\u001b[2K   \u001b[90m━━━━━━━━━━━━━━━━━━━━━━━━━━━━━━━━━━━━━━━━\u001b[0m \u001b[32m150.9/150.9 kB\u001b[0m \u001b[31m9.6 MB/s\u001b[0m eta \u001b[36m0:00:00\u001b[0m\n",
            "\u001b[2K   \u001b[90m━━━━━━━━━━━━━━━━━━━━━━━━━━━━━━━━━━━━━━━━\u001b[0m \u001b[32m45.2/45.2 kB\u001b[0m \u001b[31m2.3 MB/s\u001b[0m eta \u001b[36m0:00:00\u001b[0m\n",
            "\u001b[?25h"
          ]
        }
      ],
      "source": [
        "# Installing the SDK\n",
        "!pip install -Uq openai-agents"
      ]
    },
    {
      "cell_type": "code",
      "source": [
        "# For running event loop\n",
        "import nest_asyncio\n",
        "nest_asyncio.apply()"
      ],
      "metadata": {
        "id": "J9rYqXSSzYEA"
      },
      "execution_count": null,
      "outputs": []
    },
    {
      "cell_type": "code",
      "source": [
        "# Pre requisites SetUp\n",
        "from google.colab import userdata\n",
        "GROQ_API_KEY= userdata.get('GROQ_API_KEY')\n",
        "\n",
        "from agents import set_default_openai_api,set_default_openai_client,set_tracing_disabled\n",
        "from openai import AsyncOpenAI\n",
        "\n",
        "external_client = AsyncOpenAI(\n",
        "    base_url = \"https://groq.helicone.ai/openai/v1\",\n",
        "    api_key = GROQ_API_KEY\n",
        ")\n",
        "set_default_openai_client(external_client)\n",
        "set_default_openai_api(\"chat_completions\")\n",
        "set_tracing_disabled(True)"
      ],
      "metadata": {
        "id": "JaFph2tAzaJj"
      },
      "execution_count": null,
      "outputs": []
    },
    {
      "cell_type": "code",
      "source": [
        "# simple runner loop\n",
        "from agents import Agent,Runner\n",
        "\n",
        "result = Runner.run_sync(\n",
        "    starting_agent = Agent(\n",
        "    name = \"Assistant Agent\",\n",
        "    model = \"llama3-70b-8192\"\n",
        "),\n",
        "    input = \"what is the capital of sweden\"\n",
        ")\n",
        "result.final_output"
      ],
      "metadata": {
        "colab": {
          "base_uri": "https://localhost:8080/",
          "height": 35
        },
        "id": "WnY4PD4GzgLt",
        "outputId": "4856ea2b-c453-46ed-9a68-946d223af6ac"
      },
      "execution_count": null,
      "outputs": [
        {
          "output_type": "execute_result",
          "data": {
            "text/plain": [
              "'The capital of Sweden is Stockholm.'"
            ],
            "application/vnd.google.colaboratory.intrinsic+json": {
              "type": "string"
            }
          },
          "metadata": {},
          "execution_count": 4
        }
      ]
    },
    {
      "cell_type": "code",
      "source": [
        "from agents import Agent,Runner,Handoff,HandoffInputData,function_tool,RunContextWrapper\n",
        "from pydantic import BaseModel\n",
        "from agents.extensions import handoff_filters\n",
        "\n",
        "german_specialist_agent = Agent(\n",
        "    name = \"German Assistant Agent\",\n",
        "    instructions=\"Translate the users asked test into german\",\n",
        "    model = \"llama3-70b-8192\",\n",
        "    handoff_description=\"German assistant that helps in translation of asked text\"\n",
        ")\n",
        "\n",
        "@function_tool\n",
        "def get_weather(city:str):\n",
        "  return f\"The weather in {city} is sunny\"\n",
        "\n",
        "def german_handoff_input_filter(data:HandoffInputData)->HandoffInputData:\n",
        "#  data = handoff_filters.remove_all_tools(data)\n",
        " history = data.input_history[4:]\n",
        " print(\"Handoff Input Filter Occured 🎈 \")\n",
        " print(\"📌 BEFORE Filter:\")\n",
        " for item in data.input_history:\n",
        "        print(f\"- {item}\")\n",
        "\n",
        "    # Remove all tool calls\n",
        " data = handoff_filters.remove_all_tools(data)\n",
        "\n",
        " print(\"📌 AFTER Filter:\")\n",
        " for item in data.input_history:\n",
        "        print(f\"- {item}\")\n",
        "\n",
        " return HandoffInputData(\n",
        "     input_history=(history),\n",
        "     pre_handoff_items=(data.pre_handoff_items),\n",
        "     new_items=(data.new_items),\n",
        " )\n",
        "\n",
        "async def on_invoke_handoff_func(ctx: RunContextWrapper, args: str) -> Agent:\n",
        "    print(\"Handoff input received from LLM:\", args)\n",
        "    return german_specialist_agent\n",
        "\n",
        "class HandoffInputSchema(BaseModel):\n",
        "  user_question : str\n",
        "\n",
        "german_handoff_agent = Handoff(\n",
        "    tool_name=\"german_specialist\",\n",
        "    tool_description=\"Translate the users asked test into german\",\n",
        "    input_json_schema=HandoffInputSchema.model_json_schema(),\n",
        "    input_filter=german_handoff_input_filter,\n",
        "    agent_name=german_specialist_agent.name,\n",
        "    strict_json_schema=True,\n",
        "    is_enabled=True,\n",
        "    on_invoke_handoff= on_invoke_handoff_func\n",
        ")\n",
        "\n",
        "main_agent_1 = Agent(\n",
        "    name = \"Main Agent With Tool\",\n",
        "    instructions=\"Reply with user queries and use tools when required\",\n",
        "    model = \"llama3-70b-8192\",\n",
        "    tools = [get_weather]\n",
        ")\n",
        "\n",
        "main_agent_2 = Agent(\n",
        "    name = \"Main Agent With Handoff\",\n",
        "    instructions=\"Reply to user queries **without using any tools**, unless it's a translation request.\",\n",
        "    model = \"llama3-70b-8192\",\n",
        "    handoffs=[german_handoff_agent]\n",
        ")"
      ],
      "metadata": {
        "id": "v62hNK4sv-sf"
      },
      "execution_count": null,
      "outputs": []
    },
    {
      "cell_type": "code",
      "source": [
        "result_1 = await Runner.run(\n",
        "    starting_agent = main_agent_1,\n",
        "    input = \"Hi my name is Saim Hassan\"\n",
        ")\n",
        "print(result_1.final_output)\n",
        "print(\"========\"*20)\n",
        "\n",
        "result_2 = await Runner.run(\n",
        "    starting_agent = main_agent_1,\n",
        "    input = result_1.to_input_list() + [{\"content\":\"What is the weather in Berlin\",\"role\":\"user\"}]\n",
        ")\n",
        "print(result_2.final_output)\n",
        "print(\"========\"*20)\n",
        "\n",
        "result_3 = await Runner.run(\n",
        "    starting_agent = main_agent_2,\n",
        "    input = result_2.to_input_list() + [{\"content\":\"What is the green house effect\",\"role\":\"user\"}]\n",
        ")\n",
        "print(result_3.final_output)\n",
        "print(\"========\"*20)\n",
        "\n",
        "result_4 = await Runner.run(\n",
        "    starting_agent = main_agent_2,\n",
        "    input = result_3.to_input_list() + [{\"content\":\"Translate the following text into german 'My name is Saim Hassan, how are you'\",\"role\":\"user\"}]\n",
        ")\n",
        "print(result_4.final_output)\n",
        "print(\"========\"*20)\n"
      ],
      "metadata": {
        "colab": {
          "base_uri": "https://localhost:8080/"
        },
        "id": "a6i2NHJVArg4",
        "outputId": "4e8df69c-154c-407e-9e46-7f0ea4005304"
      },
      "execution_count": null,
      "outputs": [
        {
          "output_type": "stream",
          "name": "stdout",
          "text": [
            "Hello Saim Hassan! It's nice to meet you. What brings you here today?\n",
            "================================================================================================================================================================\n",
            "The weather in Berlin is sunny.\n",
            "================================================================================================================================================================\n",
            "The greenhouse effect is a natural process that occurs when certain gases in the Earth's atmosphere, such as carbon dioxide, methane, and water vapor, trap heat from the sun, keeping the planet warm enough to support life. This process is essential for life on Earth, but human activities, such as burning fossil fuels and deforestation, have increased the concentration of these gases, leading to an enhancement of the greenhouse effect and an increase in global temperatures, known as global warming.\n",
            "================================================================================================================================================================\n",
            "Handoff input received from LLM: {\"user_question\":\"My name is Saim Hassan, how are you\"}\n",
            "Handoff Input Filter Occured 🎈 \n",
            "📌 BEFORE Filter:\n",
            "- {'content': 'Hi my name is Saim Hassan', 'role': 'user'}\n",
            "- {'id': '__fake_id__', 'content': [{'annotations': [], 'text': \"Hello Saim Hassan! It's nice to meet you. What brings you here today?\", 'type': 'output_text'}], 'role': 'assistant', 'status': 'completed', 'type': 'message'}\n",
            "- {'content': 'What is the weather in Berlin', 'role': 'user'}\n",
            "- {'arguments': '{\"city\":\"Berlin\"}', 'call_id': 'b6kvvw3mr', 'name': 'get_weather', 'type': 'function_call', 'id': '__fake_id__'}\n",
            "- {'call_id': 'b6kvvw3mr', 'output': 'The weather in Berlin is sunny', 'type': 'function_call_output'}\n",
            "- {'id': '__fake_id__', 'content': [{'annotations': [], 'text': 'The weather in Berlin is sunny.', 'type': 'output_text'}], 'role': 'assistant', 'status': 'completed', 'type': 'message'}\n",
            "- {'content': 'What is the green house effect', 'role': 'user'}\n",
            "- {'id': '__fake_id__', 'content': [{'annotations': [], 'text': \"The greenhouse effect is a natural process that occurs when certain gases in the Earth's atmosphere, such as carbon dioxide, methane, and water vapor, trap heat from the sun, keeping the planet warm enough to support life. This process is essential for life on Earth, but human activities, such as burning fossil fuels and deforestation, have increased the concentration of these gases, leading to an enhancement of the greenhouse effect and an increase in global temperatures, known as global warming.\", 'type': 'output_text'}], 'role': 'assistant', 'status': 'completed', 'type': 'message'}\n",
            "- {'content': \"Translate the following text into german 'My name is Saim Hassan, how are you'\", 'role': 'user'}\n",
            "📌 AFTER Filter:\n",
            "- {'content': 'Hi my name is Saim Hassan', 'role': 'user'}\n",
            "- {'id': '__fake_id__', 'content': [{'annotations': [], 'text': \"Hello Saim Hassan! It's nice to meet you. What brings you here today?\", 'type': 'output_text'}], 'role': 'assistant', 'status': 'completed', 'type': 'message'}\n",
            "- {'content': 'What is the weather in Berlin', 'role': 'user'}\n",
            "- {'id': '__fake_id__', 'content': [{'annotations': [], 'text': 'The weather in Berlin is sunny.', 'type': 'output_text'}], 'role': 'assistant', 'status': 'completed', 'type': 'message'}\n",
            "- {'content': 'What is the green house effect', 'role': 'user'}\n",
            "- {'id': '__fake_id__', 'content': [{'annotations': [], 'text': \"The greenhouse effect is a natural process that occurs when certain gases in the Earth's atmosphere, such as carbon dioxide, methane, and water vapor, trap heat from the sun, keeping the planet warm enough to support life. This process is essential for life on Earth, but human activities, such as burning fossil fuels and deforestation, have increased the concentration of these gases, leading to an enhancement of the greenhouse effect and an increase in global temperatures, known as global warming.\", 'type': 'output_text'}], 'role': 'assistant', 'status': 'completed', 'type': 'message'}\n",
            "- {'content': \"Translate the following text into german 'My name is Saim Hassan, how are you'\", 'role': 'user'}\n",
            "Ich heiße Saim Hassan, wie geht es Ihnen?\n",
            "================================================================================================================================================================\n"
          ]
        }
      ]
    },
    {
      "cell_type": "code",
      "source": [
        "result_4.to_input_list()"
      ],
      "metadata": {
        "colab": {
          "base_uri": "https://localhost:8080/"
        },
        "id": "fkIw9OybH7SI",
        "outputId": "23791874-f62f-465f-c957-0e151e514f40"
      },
      "execution_count": null,
      "outputs": [
        {
          "output_type": "execute_result",
          "data": {
            "text/plain": [
              "[{'content': 'What is the green house effect', 'role': 'user'},\n",
              " {'id': '__fake_id__',\n",
              "  'content': [{'annotations': [],\n",
              "    'text': \"The greenhouse effect is a process that occurs when certain gases in the Earth's atmosphere, such as carbon dioxide, methane, and water vapor, trap heat from the sun, warming the planet. This natural process is essential for life on Earth, as it allows the planet to maintain a habitable temperature. However, human activities, such as burning fossil fuels and deforestation, have increased the concentration of these gases, leading to an enhancement of the greenhouse effect and an increase in global temperatures. This is commonly referred to as global warming.\",\n",
              "    'type': 'output_text'}],\n",
              "  'role': 'assistant',\n",
              "  'status': 'completed',\n",
              "  'type': 'message'},\n",
              " {'content': \"Translate the following text into german 'My name is Saim Hassan, how are you'\",\n",
              "  'role': 'user'},\n",
              " {'id': '__fake_id__',\n",
              "  'content': [{'annotations': [],\n",
              "    'text': 'Here is the translation:\\n\\n\"Ich heiße Saim Hassan, wie geht es Ihnen?\"\\n\\nHere\\'s a breakdown of the translation:\\n\\n* \"My name is\" = \"Ich heiße\"\\n* \"Saim Hassan\" remains the same (it\\'s a proper noun)\\n* \"how are you\" = \"wie geht es Ihnen\" (formal way of asking) or \"wie geht\\'s\" (informal way of asking)\\n\\nNote: In German, it\\'s common to use the formal way of addressing someone you don\\'t know well, so \"wie geht es Ihnen\" is a safer choice. If you want to use the informal way, you can say \"Hallo, ich bin Saim Hassan, wie geht\\'s?\"',\n",
              "    'type': 'output_text'}],\n",
              "  'role': 'assistant',\n",
              "  'status': 'completed',\n",
              "  'type': 'message'}]"
            ]
          },
          "metadata": {},
          "execution_count": 12
        }
      ]
    },
    {
      "cell_type": "markdown",
      "source": [
        "# The deletion of \"Introduction\" and \"Weather\" questions and \"tool_calls\" implies that \"handoff_input_filter\" worked"
      ],
      "metadata": {
        "id": "TcrzYVYbIt4b"
      }
    },
    {
      "cell_type": "markdown",
      "source": [
        "# Other Method OF HandOff Creation"
      ],
      "metadata": {
        "id": "BNyHwyCHPdti"
      }
    },
    {
      "cell_type": "code",
      "source": [
        "from agents import Agent,Runner,handoff,HandoffInputData,RunContextWrapper\n",
        "from agents.extensions import handoff_filters\n",
        "from pydantic import BaseModel\n",
        "\n",
        "agent_1_spanish = Agent(\n",
        "    name = \"Spanish Translation Agent\",\n",
        "    instructions=\"Translate the user asked text into spanish\",\n",
        "    model = \"llama3-70b-8192\",\n",
        "    handoff_description=\"Spanish assistant that helps in translation of asked text\"\n",
        ")\n",
        "\n",
        "class UserInput(BaseModel):\n",
        "  user_question : str\n",
        "\n",
        "async def on_handoff_func(ctx:RunContextWrapper,input_data:str)->Agent:\n",
        "  print(\"On HandOff Function Called 🎆 \")\n",
        "  print(input_data.user_question)\n",
        "  return agent_1_spanish\n",
        "\n",
        "\n",
        "handoff_1_spanish = handoff(\n",
        "    agent=agent_1_spanish,\n",
        "    tool_name_override=\"spanish_handoff\",\n",
        "    tool_description_override=\"Spanish assistant that helps in translation of asked text\",\n",
        "    is_enabled=True,\n",
        "    input_filter=handoff_filters.remove_all_tools,\n",
        "    on_handoff=on_handoff_func,\n",
        "    input_type = UserInput\n",
        ")\n",
        "\n",
        "main_agent = Agent(\n",
        "    name = \"Main Agent With Handoffs\",\n",
        "    instructions=\"Reply to user queries **without using any tools**, unless it's a translation request.\",\n",
        "    model = \"llama3-70b-8192\",\n",
        "    handoffs=[handoff_1_spanish]\n",
        ")"
      ],
      "metadata": {
        "id": "IzbEcdd4L9eY"
      },
      "execution_count": null,
      "outputs": []
    },
    {
      "cell_type": "code",
      "source": [
        "result_with_handoff = await Runner.run(\n",
        "    starting_agent = main_agent,\n",
        "    input = \"Hi my name is Saim Hassan and I am a boy , translate this into spanish\"\n",
        ")\n",
        "print(result_with_handoff.final_output)"
      ],
      "metadata": {
        "colab": {
          "base_uri": "https://localhost:8080/"
        },
        "id": "JUe2lwjSYVRI",
        "outputId": "0b4e77ef-5639-44e3-c667-20f95f2ed7f5"
      },
      "execution_count": null,
      "outputs": [
        {
          "output_type": "stream",
          "name": "stdout",
          "text": [
            "On HandOff Function Called 🎆 \n",
            "Hi my name is Saim Hassan and I am a boy\n",
            "Hola, mi nombre es Saim Hassan y soy un niño.\n",
            "\n",
            "Here's a breakdown of the translation:\n",
            "\n",
            "* \"Hi\" -> \"Hola\"\n",
            "* \"my name is\" -> \"mi nombre es\"\n",
            "* \"Saim Hassan\" remains the same, as it's a proper noun\n",
            "* \"and\" -> \"y\"\n",
            "* \"I am\" -> \"soy\"\n",
            "* \"a boy\" -> \"un niño\"\n"
          ]
        }
      ]
    }
  ]
}