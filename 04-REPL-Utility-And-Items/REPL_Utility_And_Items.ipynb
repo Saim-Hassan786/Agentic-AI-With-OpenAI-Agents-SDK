{
  "nbformat": 4,
  "nbformat_minor": 0,
  "metadata": {
    "colab": {
      "provenance": [],
      "authorship_tag": "ABX9TyMnuAgR2BS7xGg51THDqfQv",
      "include_colab_link": true
    },
    "kernelspec": {
      "name": "python3",
      "display_name": "Python 3"
    },
    "language_info": {
      "name": "python"
    }
  },
  "cells": [
    {
      "cell_type": "markdown",
      "metadata": {
        "id": "view-in-github",
        "colab_type": "text"
      },
      "source": [
        "<a href=\"https://colab.research.google.com/github/Saim-Hassan786/Learn-Agentic-AI-With-OpenAI-Agents-SDK/blob/main/04-REPL-Utility-And-Items/REPL_Utility_And_Items.ipynb\" target=\"_parent\"><img src=\"https://colab.research.google.com/assets/colab-badge.svg\" alt=\"Open In Colab\"/></a>"
      ]
    },
    {
      "cell_type": "markdown",
      "source": [
        "# REPL_utility\n",
        "**It is a powerful in built feature provided in OpenAI SDK that helps us test our Agent for infinite number of turns (stopping it whenever we want) to check its productiveness rather then applying external tests on it.** **It allows quick manual testing and debugging of the Agent , it works by continously asking for user_input and also keeps the conversation history in tact in each turn and we can terminate it by typing 'quit' or 'exit'**"
      ],
      "metadata": {
        "id": "agn02nxVQPGw"
      }
    },
    {
      "cell_type": "code",
      "execution_count": null,
      "metadata": {
        "colab": {
          "base_uri": "https://localhost:8080/"
        },
        "id": "dhrHYsAdzNny",
        "outputId": "15a82ba1-f0ae-4b63-b21f-20fca8d7f5e1"
      },
      "outputs": [
        {
          "output_type": "stream",
          "name": "stdout",
          "text": [
            "\u001b[2K     \u001b[90m━━━━━━━━━━━━━━━━━━━━━━━━━━━━━━━━━━━━━━━━\u001b[0m \u001b[32m40.1/40.1 kB\u001b[0m \u001b[31m2.0 MB/s\u001b[0m eta \u001b[36m0:00:00\u001b[0m\n",
            "\u001b[2K   \u001b[90m━━━━━━━━━━━━━━━━━━━━━━━━━━━━━━━━━━━━━━━━\u001b[0m \u001b[32m130.6/130.6 kB\u001b[0m \u001b[31m4.6 MB/s\u001b[0m eta \u001b[36m0:00:00\u001b[0m\n",
            "\u001b[2K   \u001b[90m━━━━━━━━━━━━━━━━━━━━━━━━━━━━━━━━━━━━━━━━\u001b[0m \u001b[32m129.3/129.3 kB\u001b[0m \u001b[31m4.7 MB/s\u001b[0m eta \u001b[36m0:00:00\u001b[0m\n",
            "\u001b[2K   \u001b[90m━━━━━━━━━━━━━━━━━━━━━━━━━━━━━━━━━━━━━━━━\u001b[0m \u001b[32m150.9/150.9 kB\u001b[0m \u001b[31m9.5 MB/s\u001b[0m eta \u001b[36m0:00:00\u001b[0m\n",
            "\u001b[2K   \u001b[90m━━━━━━━━━━━━━━━━━━━━━━━━━━━━━━━━━━━━━━━━\u001b[0m \u001b[32m45.2/45.2 kB\u001b[0m \u001b[31m1.5 MB/s\u001b[0m eta \u001b[36m0:00:00\u001b[0m\n",
            "\u001b[?25h"
          ]
        }
      ],
      "source": [
        "# Installing the SDK\n",
        "!pip install -Uq openai-agents"
      ]
    },
    {
      "cell_type": "code",
      "source": [
        "# For running event loop\n",
        "import nest_asyncio\n",
        "nest_asyncio.apply()"
      ],
      "metadata": {
        "id": "J9rYqXSSzYEA"
      },
      "execution_count": null,
      "outputs": []
    },
    {
      "cell_type": "code",
      "source": [
        "# Pre requisites SetUp\n",
        "from google.colab import userdata\n",
        "GOOGLE_API_KEY= userdata.get('GOOGLE_API_KEY')\n",
        "\n",
        "from agents import set_default_openai_api,set_default_openai_client,set_tracing_disabled\n",
        "from openai import AsyncOpenAI\n",
        "\n",
        "external_client = AsyncOpenAI(\n",
        "    base_url = \"https://generativelanguage.googleapis.com/v1beta/openai/\",\n",
        "    api_key = GOOGLE_API_KEY\n",
        ")\n",
        "set_default_openai_client(external_client)\n",
        "set_default_openai_api(\"chat_completions\")\n",
        "set_tracing_disabled(True)"
      ],
      "metadata": {
        "id": "JaFph2tAzaJj"
      },
      "execution_count": null,
      "outputs": []
    },
    {
      "cell_type": "code",
      "source": [
        "from agents import Agent,Runner,run_demo_loop,function_tool\n",
        "import asyncio\n",
        "\n",
        "@function_tool\n",
        "def addition(a:int,b:int)->int:\n",
        "  return a + b\n",
        "\n",
        "agent = Agent(\n",
        "    name = \"Assistant Agent\",\n",
        "    instructions = \"Reply with user queries with the best of your capabilities\",\n",
        "    model = \"gemini-2.5-flash\",\n",
        "    tools = [addition]\n",
        ")\n",
        "\n",
        "async def main ():\n",
        "   await run_demo_loop(agent)\n",
        "\n",
        "asyncio.run(main())"
      ],
      "metadata": {
        "colab": {
          "base_uri": "https://localhost:8080/"
        },
        "id": "Ll_81N8CP2l1",
        "outputId": "527a4df7-934c-4930-d8f2-1c96c5eff17f"
      },
      "execution_count": null,
      "outputs": [
        {
          "name": "stdout",
          "output_type": "stream",
          "text": [
            " > Who is the founder of python language\n",
            "\n",
            "[Agent updated: Assistant Agent]\n",
            "The founder of Python language is Guido van Rossum.\n",
            " > What is the result of adding 10 and 10\n",
            "\n",
            "[Agent updated: Assistant Agent]\n",
            "\n",
            "[tool called]\n",
            "\n",
            "[tool output: 20]\n",
            "The result of adding 10 and 10 is 20.\n",
            " > List 5 Benefits of AI in the future\n",
            "\n",
            "[Agent updated: Assistant Agent]\n",
            "Here are 5 benefits of AI in the future:\n",
            "\n",
            "1.  **Enhanced Healthcare**: AI can revolutionize healthcare through more accurate diagnoses, personalized treatment plans, drug discovery, and efficient hospital management.\n",
            "2.  **Automated Transportation**: Self-driving cars and optimized traffic systems can lead to safer roads, reduced congestion, and more efficient commutes.\n",
            "3.  **Personalized Education**: AI can adapt learning experiences to individual student needs, providing customized content, feedback, and support, leading to more effective education outcomes.\n",
            "4.  **Environmental Solutions**: AI can help monitor climate change, optimize energy consumption, develop sustainable agriculture, and predict natural disasters, contributing to a healthier planet.\n",
            "5.  **Increased Productivity and Efficiency**: AI can automate repetitive tasks, optimize complex processes in various industries, and provide data-driven insights, leading to significant increases in productivity and operational efficiency.\n",
            " > exit\n"
          ]
        }
      ]
    },
    {
      "cell_type": "code",
      "source": [
        "from agents import Agent,Runner,run_demo_loop,function_tool\n",
        "import asyncio\n",
        "\n",
        "@function_tool\n",
        "def multiplication(a:int,b:int)->int:\n",
        "  return a * b\n",
        "\n",
        "agent_2 = Agent(\n",
        "    name = \"Assistant Agent 2\",\n",
        "    instructions = \"Reply with user queries with the best of your capabilities and always use tool if required\",\n",
        "    model = \"gemini-2.5-flash\",\n",
        "    tools = [multiplication]\n",
        ")\n",
        "\n",
        "async def main_2():\n",
        "  await run_demo_loop(agent_2,stream= True)   # By default stream is True , can make it Fasle as well for Non-Streming output\n",
        "\n",
        "asyncio.run(main_2())"
      ],
      "metadata": {
        "colab": {
          "base_uri": "https://localhost:8080/"
        },
        "id": "c46V_CL0R_eO",
        "outputId": "ba0dfe72-6bcd-469d-f1cf-7aa8cdcce913"
      },
      "execution_count": null,
      "outputs": [
        {
          "name": "stdout",
          "output_type": "stream",
          "text": [
            " > What is the result of 40 multiply by 30\n",
            "\n",
            "[Agent updated: Assistant Agent 2]\n",
            "\n",
            "[tool called]\n",
            "\n",
            "[tool output: 1200]\n",
            "The result of 40 multiplied by 30 is 1200.\n",
            " > what is machine learning and deep learning\n",
            "\n",
            "[Agent updated: Assistant Agent 2]\n",
            "Machine learning is a subset of artificial intelligence (AI) that enables systems to learn from data without being explicitly programmed. It focuses on the development of algorithms that can identify patterns in data and make predictions or decisions based on those patterns.\n",
            "\n",
            "Deep learning is a specialized subfield of machine learning that uses artificial neural networks with multiple layers (hence \"deep\") to learn complex patterns from large amounts of data. It is particularly effective for tasks such as image recognition, natural language processing, and speech recognition, where traditional machine learning methods might struggle to extract relevant features from raw data. Deep learning models can automatically learn hierarchical representations of data, making them powerful for tasks that involve high-dimensional inputs.\n",
            " > Who is the founder of Apple inc\n",
            "\n",
            "[Agent updated: Assistant Agent 2]\n",
            "Apple Inc. was founded by Steve Jobs, Steve Wozniak, and Ronald Wayne. However, Steve Jobs is widely recognized as the most prominent co-founder and the visionary behind Apple's success.\n",
            " > quit\n"
          ]
        }
      ]
    },
    {
      "cell_type": "markdown",
      "source": [
        "# Items\n",
        "These are regarded as the raw_items of many types generated by the SDK.These are mainly of type :\n",
        "\n",
        " **TResponses**\n",
        "\n",
        "  - **TResponseInputItems**\n",
        "  - **TResponseOutputItems**\n",
        "  - **TResponseStreamEvents**\n"
      ],
      "metadata": {
        "id": "fiSVcQobUxt1"
      }
    },
    {
      "cell_type": "markdown",
      "source": [
        "# RunItems\n",
        "All the items created by the SDK are called RunItems and these are of following types:\n",
        "\n",
        "1. **MessageOutputItem**\n",
        "2. **ToolCallItem**\n",
        "3. **ToolCallOutputItem**\n",
        "4. **HandOffCallItem**\n",
        "5. **HandOffOutputItem**\n",
        "6. **ReasoningItem**\n",
        "7. **MCPToollistItem**\n",
        "8. **MCPApprovalRequestItem**\n",
        "9. **MCPApprovalResponseItem**"
      ],
      "metadata": {
        "id": "mLkcCrYAW_Xy"
      }
    },
    {
      "cell_type": "markdown",
      "source": [
        "# RunItemBase\n",
        "All the RunItems inherit from the RunItemBase Class , it contains :\n",
        "\n",
        "  - **agent**\n",
        "  - **raw_items**\n",
        "  - **to_new_input**"
      ],
      "metadata": {
        "id": "P5FguOc-Zpe0"
      }
    },
    {
      "cell_type": "markdown",
      "source": [
        "# ItemHelpers\n",
        "**ItemHelpers** are another important feature provided by SDK that enables us to perform some new actions on the items.\n",
        "\n",
        "1. **extract_last_content** (text and refusal)\n",
        "2. **extract_last_text** (text only)\n",
        "3. **text_message_output** (text output from single MessageOutputItem)\n",
        "4. **test_message_outputs** (text outputs from all MessageOutputItems)\n",
        "5. **input_to_new_input_list** (takes the str or input_items and convert them into list of input_items)\n",
        "6. **tool_call_output_item** (converts a tool call and its output into a tool_call_output_item)"
      ],
      "metadata": {
        "id": "7h4REdigfPZ5"
      }
    }
  ]
}